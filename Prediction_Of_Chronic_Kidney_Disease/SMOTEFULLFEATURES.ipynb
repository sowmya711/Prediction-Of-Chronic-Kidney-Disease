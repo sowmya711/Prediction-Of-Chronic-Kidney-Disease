{
  "nbformat": 4,
  "nbformat_minor": 0,
  "metadata": {
    "colab": {
      "provenance": []
    },
    "kernelspec": {
      "name": "python3",
      "display_name": "Python 3"
    },
    "language_info": {
      "name": "python"
    },
    "accelerator": "GPU",
    "gpuClass": "standard"
  },
  "cells": [
    {
      "cell_type": "code",
      "execution_count": null,
      "metadata": {
        "id": "35yS02tCmsSu"
      },
      "outputs": [],
      "source": [
        "\n",
        "# Importing the necessary libraries\n",
        "import pandas as pd\n",
        "import numpy as np\n",
        "import matplotlib.pyplot as pltz\n",
        "from sklearn.model_selection import train_test_split\n"
      ]
    },
    {
      "cell_type": "code",
      "source": [
        "data=pd.read_csv(\"kidney_disease.csv\")"
      ],
      "metadata": {
        "id": "YZEjmhnjQo7J"
      },
      "execution_count": null,
      "outputs": []
    },
    {
      "cell_type": "code",
      "source": [
        "data = data.sample(frac = 1)\n",
        "data"
      ],
      "metadata": {
        "colab": {
          "base_uri": "https://localhost:8080/",
          "height": 488
        },
        "id": "XzMFOiY--WKw",
        "outputId": "c8d89c5e-c0b3-4f12-dd8f-db4c082210c2"
      },
      "execution_count": null,
      "outputs": [
        {
          "output_type": "execute_result",
          "data": {
            "text/plain": [
              "      id   age    bp     sg   al   su       rbc        pc         pcc  \\\n",
              "300  300  45.0  60.0  1.020  0.0  0.0    normal    normal         NaN   \n",
              "63    63  46.0  70.0  1.015  1.0  0.0  abnormal    normal  notpresent   \n",
              "278  278  48.0  60.0  1.020  0.0  0.0    normal    normal  notpresent   \n",
              "351  351  29.0  80.0  1.020  0.0  0.0    normal    normal  notpresent   \n",
              "163  163  46.0  80.0  1.010  0.0  0.0       NaN    normal  notpresent   \n",
              "..   ...   ...   ...    ...  ...  ...       ...       ...         ...   \n",
              "285  285  66.0  70.0  1.020  0.0  0.0    normal    normal  notpresent   \n",
              "137  137  45.0  60.0  1.010  2.0  0.0    normal  abnormal     present   \n",
              "319  319  30.0  60.0  1.020  0.0  0.0    normal    normal  notpresent   \n",
              "104  104  55.0  90.0    NaN  NaN  NaN       NaN       NaN  notpresent   \n",
              "383  383  80.0  80.0  1.025  0.0  0.0    normal    normal  notpresent   \n",
              "\n",
              "             ba  ...  pcv    wc   rc  htn   dm  cad appet   pe  ane  \\\n",
              "300         NaN  ...   43  9200  5.8   no   no   no  good   no   no   \n",
              "63   notpresent  ...   27   NaN  NaN   no   no   no  good   no  yes   \n",
              "278  notpresent  ...   44  9400  6.4   no   no   no  good   no   no   \n",
              "351  notpresent  ...   40  9900  4.7   no   no   no  good   no   no   \n",
              "163  notpresent  ...   27  8100  3.2  yes   no   no  poor   no  yes   \n",
              "..          ...  ...  ...   ...  ...  ...  ...  ...   ...  ...  ...   \n",
              "285  notpresent  ...   41  5300  5.9   no   no   no  good   no   no   \n",
              "137  notpresent  ...   29  9200  NaN  yes  yes   no  good   no   no   \n",
              "319  notpresent  ...  NaN   NaN  NaN   no   no   no  good   no   no   \n",
              "104  notpresent  ...  NaN   NaN  NaN  yes  yes   no  poor  yes   no   \n",
              "383  notpresent  ...   49  5100  5.0   no   no   no  good   no   no   \n",
              "\n",
              "    classification  \n",
              "300         notckd  \n",
              "63             ckd  \n",
              "278         notckd  \n",
              "351         notckd  \n",
              "163            ckd  \n",
              "..             ...  \n",
              "285         notckd  \n",
              "137            ckd  \n",
              "319         notckd  \n",
              "104            ckd  \n",
              "383         notckd  \n",
              "\n",
              "[400 rows x 26 columns]"
            ],
            "text/html": [
              "\n",
              "  <div id=\"df-d62cf242-6d07-451e-803d-ab73ac806d78\">\n",
              "    <div class=\"colab-df-container\">\n",
              "      <div>\n",
              "<style scoped>\n",
              "    .dataframe tbody tr th:only-of-type {\n",
              "        vertical-align: middle;\n",
              "    }\n",
              "\n",
              "    .dataframe tbody tr th {\n",
              "        vertical-align: top;\n",
              "    }\n",
              "\n",
              "    .dataframe thead th {\n",
              "        text-align: right;\n",
              "    }\n",
              "</style>\n",
              "<table border=\"1\" class=\"dataframe\">\n",
              "  <thead>\n",
              "    <tr style=\"text-align: right;\">\n",
              "      <th></th>\n",
              "      <th>id</th>\n",
              "      <th>age</th>\n",
              "      <th>bp</th>\n",
              "      <th>sg</th>\n",
              "      <th>al</th>\n",
              "      <th>su</th>\n",
              "      <th>rbc</th>\n",
              "      <th>pc</th>\n",
              "      <th>pcc</th>\n",
              "      <th>ba</th>\n",
              "      <th>...</th>\n",
              "      <th>pcv</th>\n",
              "      <th>wc</th>\n",
              "      <th>rc</th>\n",
              "      <th>htn</th>\n",
              "      <th>dm</th>\n",
              "      <th>cad</th>\n",
              "      <th>appet</th>\n",
              "      <th>pe</th>\n",
              "      <th>ane</th>\n",
              "      <th>classification</th>\n",
              "    </tr>\n",
              "  </thead>\n",
              "  <tbody>\n",
              "    <tr>\n",
              "      <th>300</th>\n",
              "      <td>300</td>\n",
              "      <td>45.0</td>\n",
              "      <td>60.0</td>\n",
              "      <td>1.020</td>\n",
              "      <td>0.0</td>\n",
              "      <td>0.0</td>\n",
              "      <td>normal</td>\n",
              "      <td>normal</td>\n",
              "      <td>NaN</td>\n",
              "      <td>NaN</td>\n",
              "      <td>...</td>\n",
              "      <td>43</td>\n",
              "      <td>9200</td>\n",
              "      <td>5.8</td>\n",
              "      <td>no</td>\n",
              "      <td>no</td>\n",
              "      <td>no</td>\n",
              "      <td>good</td>\n",
              "      <td>no</td>\n",
              "      <td>no</td>\n",
              "      <td>notckd</td>\n",
              "    </tr>\n",
              "    <tr>\n",
              "      <th>63</th>\n",
              "      <td>63</td>\n",
              "      <td>46.0</td>\n",
              "      <td>70.0</td>\n",
              "      <td>1.015</td>\n",
              "      <td>1.0</td>\n",
              "      <td>0.0</td>\n",
              "      <td>abnormal</td>\n",
              "      <td>normal</td>\n",
              "      <td>notpresent</td>\n",
              "      <td>notpresent</td>\n",
              "      <td>...</td>\n",
              "      <td>27</td>\n",
              "      <td>NaN</td>\n",
              "      <td>NaN</td>\n",
              "      <td>no</td>\n",
              "      <td>no</td>\n",
              "      <td>no</td>\n",
              "      <td>good</td>\n",
              "      <td>no</td>\n",
              "      <td>yes</td>\n",
              "      <td>ckd</td>\n",
              "    </tr>\n",
              "    <tr>\n",
              "      <th>278</th>\n",
              "      <td>278</td>\n",
              "      <td>48.0</td>\n",
              "      <td>60.0</td>\n",
              "      <td>1.020</td>\n",
              "      <td>0.0</td>\n",
              "      <td>0.0</td>\n",
              "      <td>normal</td>\n",
              "      <td>normal</td>\n",
              "      <td>notpresent</td>\n",
              "      <td>notpresent</td>\n",
              "      <td>...</td>\n",
              "      <td>44</td>\n",
              "      <td>9400</td>\n",
              "      <td>6.4</td>\n",
              "      <td>no</td>\n",
              "      <td>no</td>\n",
              "      <td>no</td>\n",
              "      <td>good</td>\n",
              "      <td>no</td>\n",
              "      <td>no</td>\n",
              "      <td>notckd</td>\n",
              "    </tr>\n",
              "    <tr>\n",
              "      <th>351</th>\n",
              "      <td>351</td>\n",
              "      <td>29.0</td>\n",
              "      <td>80.0</td>\n",
              "      <td>1.020</td>\n",
              "      <td>0.0</td>\n",
              "      <td>0.0</td>\n",
              "      <td>normal</td>\n",
              "      <td>normal</td>\n",
              "      <td>notpresent</td>\n",
              "      <td>notpresent</td>\n",
              "      <td>...</td>\n",
              "      <td>40</td>\n",
              "      <td>9900</td>\n",
              "      <td>4.7</td>\n",
              "      <td>no</td>\n",
              "      <td>no</td>\n",
              "      <td>no</td>\n",
              "      <td>good</td>\n",
              "      <td>no</td>\n",
              "      <td>no</td>\n",
              "      <td>notckd</td>\n",
              "    </tr>\n",
              "    <tr>\n",
              "      <th>163</th>\n",
              "      <td>163</td>\n",
              "      <td>46.0</td>\n",
              "      <td>80.0</td>\n",
              "      <td>1.010</td>\n",
              "      <td>0.0</td>\n",
              "      <td>0.0</td>\n",
              "      <td>NaN</td>\n",
              "      <td>normal</td>\n",
              "      <td>notpresent</td>\n",
              "      <td>notpresent</td>\n",
              "      <td>...</td>\n",
              "      <td>27</td>\n",
              "      <td>8100</td>\n",
              "      <td>3.2</td>\n",
              "      <td>yes</td>\n",
              "      <td>no</td>\n",
              "      <td>no</td>\n",
              "      <td>poor</td>\n",
              "      <td>no</td>\n",
              "      <td>yes</td>\n",
              "      <td>ckd</td>\n",
              "    </tr>\n",
              "    <tr>\n",
              "      <th>...</th>\n",
              "      <td>...</td>\n",
              "      <td>...</td>\n",
              "      <td>...</td>\n",
              "      <td>...</td>\n",
              "      <td>...</td>\n",
              "      <td>...</td>\n",
              "      <td>...</td>\n",
              "      <td>...</td>\n",
              "      <td>...</td>\n",
              "      <td>...</td>\n",
              "      <td>...</td>\n",
              "      <td>...</td>\n",
              "      <td>...</td>\n",
              "      <td>...</td>\n",
              "      <td>...</td>\n",
              "      <td>...</td>\n",
              "      <td>...</td>\n",
              "      <td>...</td>\n",
              "      <td>...</td>\n",
              "      <td>...</td>\n",
              "      <td>...</td>\n",
              "    </tr>\n",
              "    <tr>\n",
              "      <th>285</th>\n",
              "      <td>285</td>\n",
              "      <td>66.0</td>\n",
              "      <td>70.0</td>\n",
              "      <td>1.020</td>\n",
              "      <td>0.0</td>\n",
              "      <td>0.0</td>\n",
              "      <td>normal</td>\n",
              "      <td>normal</td>\n",
              "      <td>notpresent</td>\n",
              "      <td>notpresent</td>\n",
              "      <td>...</td>\n",
              "      <td>41</td>\n",
              "      <td>5300</td>\n",
              "      <td>5.9</td>\n",
              "      <td>no</td>\n",
              "      <td>no</td>\n",
              "      <td>no</td>\n",
              "      <td>good</td>\n",
              "      <td>no</td>\n",
              "      <td>no</td>\n",
              "      <td>notckd</td>\n",
              "    </tr>\n",
              "    <tr>\n",
              "      <th>137</th>\n",
              "      <td>137</td>\n",
              "      <td>45.0</td>\n",
              "      <td>60.0</td>\n",
              "      <td>1.010</td>\n",
              "      <td>2.0</td>\n",
              "      <td>0.0</td>\n",
              "      <td>normal</td>\n",
              "      <td>abnormal</td>\n",
              "      <td>present</td>\n",
              "      <td>notpresent</td>\n",
              "      <td>...</td>\n",
              "      <td>29</td>\n",
              "      <td>9200</td>\n",
              "      <td>NaN</td>\n",
              "      <td>yes</td>\n",
              "      <td>yes</td>\n",
              "      <td>no</td>\n",
              "      <td>good</td>\n",
              "      <td>no</td>\n",
              "      <td>no</td>\n",
              "      <td>ckd</td>\n",
              "    </tr>\n",
              "    <tr>\n",
              "      <th>319</th>\n",
              "      <td>319</td>\n",
              "      <td>30.0</td>\n",
              "      <td>60.0</td>\n",
              "      <td>1.020</td>\n",
              "      <td>0.0</td>\n",
              "      <td>0.0</td>\n",
              "      <td>normal</td>\n",
              "      <td>normal</td>\n",
              "      <td>notpresent</td>\n",
              "      <td>notpresent</td>\n",
              "      <td>...</td>\n",
              "      <td>NaN</td>\n",
              "      <td>NaN</td>\n",
              "      <td>NaN</td>\n",
              "      <td>no</td>\n",
              "      <td>no</td>\n",
              "      <td>no</td>\n",
              "      <td>good</td>\n",
              "      <td>no</td>\n",
              "      <td>no</td>\n",
              "      <td>notckd</td>\n",
              "    </tr>\n",
              "    <tr>\n",
              "      <th>104</th>\n",
              "      <td>104</td>\n",
              "      <td>55.0</td>\n",
              "      <td>90.0</td>\n",
              "      <td>NaN</td>\n",
              "      <td>NaN</td>\n",
              "      <td>NaN</td>\n",
              "      <td>NaN</td>\n",
              "      <td>NaN</td>\n",
              "      <td>notpresent</td>\n",
              "      <td>notpresent</td>\n",
              "      <td>...</td>\n",
              "      <td>NaN</td>\n",
              "      <td>NaN</td>\n",
              "      <td>NaN</td>\n",
              "      <td>yes</td>\n",
              "      <td>yes</td>\n",
              "      <td>no</td>\n",
              "      <td>poor</td>\n",
              "      <td>yes</td>\n",
              "      <td>no</td>\n",
              "      <td>ckd</td>\n",
              "    </tr>\n",
              "    <tr>\n",
              "      <th>383</th>\n",
              "      <td>383</td>\n",
              "      <td>80.0</td>\n",
              "      <td>80.0</td>\n",
              "      <td>1.025</td>\n",
              "      <td>0.0</td>\n",
              "      <td>0.0</td>\n",
              "      <td>normal</td>\n",
              "      <td>normal</td>\n",
              "      <td>notpresent</td>\n",
              "      <td>notpresent</td>\n",
              "      <td>...</td>\n",
              "      <td>49</td>\n",
              "      <td>5100</td>\n",
              "      <td>5.0</td>\n",
              "      <td>no</td>\n",
              "      <td>no</td>\n",
              "      <td>no</td>\n",
              "      <td>good</td>\n",
              "      <td>no</td>\n",
              "      <td>no</td>\n",
              "      <td>notckd</td>\n",
              "    </tr>\n",
              "  </tbody>\n",
              "</table>\n",
              "<p>400 rows × 26 columns</p>\n",
              "</div>\n",
              "      <button class=\"colab-df-convert\" onclick=\"convertToInteractive('df-d62cf242-6d07-451e-803d-ab73ac806d78')\"\n",
              "              title=\"Convert this dataframe to an interactive table.\"\n",
              "              style=\"display:none;\">\n",
              "        \n",
              "  <svg xmlns=\"http://www.w3.org/2000/svg\" height=\"24px\"viewBox=\"0 0 24 24\"\n",
              "       width=\"24px\">\n",
              "    <path d=\"M0 0h24v24H0V0z\" fill=\"none\"/>\n",
              "    <path d=\"M18.56 5.44l.94 2.06.94-2.06 2.06-.94-2.06-.94-.94-2.06-.94 2.06-2.06.94zm-11 1L8.5 8.5l.94-2.06 2.06-.94-2.06-.94L8.5 2.5l-.94 2.06-2.06.94zm10 10l.94 2.06.94-2.06 2.06-.94-2.06-.94-.94-2.06-.94 2.06-2.06.94z\"/><path d=\"M17.41 7.96l-1.37-1.37c-.4-.4-.92-.59-1.43-.59-.52 0-1.04.2-1.43.59L10.3 9.45l-7.72 7.72c-.78.78-.78 2.05 0 2.83L4 21.41c.39.39.9.59 1.41.59.51 0 1.02-.2 1.41-.59l7.78-7.78 2.81-2.81c.8-.78.8-2.07 0-2.86zM5.41 20L4 18.59l7.72-7.72 1.47 1.35L5.41 20z\"/>\n",
              "  </svg>\n",
              "      </button>\n",
              "      \n",
              "  <style>\n",
              "    .colab-df-container {\n",
              "      display:flex;\n",
              "      flex-wrap:wrap;\n",
              "      gap: 12px;\n",
              "    }\n",
              "\n",
              "    .colab-df-convert {\n",
              "      background-color: #E8F0FE;\n",
              "      border: none;\n",
              "      border-radius: 50%;\n",
              "      cursor: pointer;\n",
              "      display: none;\n",
              "      fill: #1967D2;\n",
              "      height: 32px;\n",
              "      padding: 0 0 0 0;\n",
              "      width: 32px;\n",
              "    }\n",
              "\n",
              "    .colab-df-convert:hover {\n",
              "      background-color: #E2EBFA;\n",
              "      box-shadow: 0px 1px 2px rgba(60, 64, 67, 0.3), 0px 1px 3px 1px rgba(60, 64, 67, 0.15);\n",
              "      fill: #174EA6;\n",
              "    }\n",
              "\n",
              "    [theme=dark] .colab-df-convert {\n",
              "      background-color: #3B4455;\n",
              "      fill: #D2E3FC;\n",
              "    }\n",
              "\n",
              "    [theme=dark] .colab-df-convert:hover {\n",
              "      background-color: #434B5C;\n",
              "      box-shadow: 0px 1px 3px 1px rgba(0, 0, 0, 0.15);\n",
              "      filter: drop-shadow(0px 1px 2px rgba(0, 0, 0, 0.3));\n",
              "      fill: #FFFFFF;\n",
              "    }\n",
              "  </style>\n",
              "\n",
              "      <script>\n",
              "        const buttonEl =\n",
              "          document.querySelector('#df-d62cf242-6d07-451e-803d-ab73ac806d78 button.colab-df-convert');\n",
              "        buttonEl.style.display =\n",
              "          google.colab.kernel.accessAllowed ? 'block' : 'none';\n",
              "\n",
              "        async function convertToInteractive(key) {\n",
              "          const element = document.querySelector('#df-d62cf242-6d07-451e-803d-ab73ac806d78');\n",
              "          const dataTable =\n",
              "            await google.colab.kernel.invokeFunction('convertToInteractive',\n",
              "                                                     [key], {});\n",
              "          if (!dataTable) return;\n",
              "\n",
              "          const docLinkHtml = 'Like what you see? Visit the ' +\n",
              "            '<a target=\"_blank\" href=https://colab.research.google.com/notebooks/data_table.ipynb>data table notebook</a>'\n",
              "            + ' to learn more about interactive tables.';\n",
              "          element.innerHTML = '';\n",
              "          dataTable['output_type'] = 'display_data';\n",
              "          await google.colab.output.renderOutput(dataTable, element);\n",
              "          const docLink = document.createElement('div');\n",
              "          docLink.innerHTML = docLinkHtml;\n",
              "          element.appendChild(docLink);\n",
              "        }\n",
              "      </script>\n",
              "    </div>\n",
              "  </div>\n",
              "  "
            ]
          },
          "metadata": {},
          "execution_count": 3
        }
      ]
    },
    {
      "cell_type": "code",
      "source": [
        "data.describe()"
      ],
      "metadata": {
        "colab": {
          "base_uri": "https://localhost:8080/",
          "height": 364
        },
        "id": "GsOWfQ_qRR7P",
        "outputId": "7460b3bf-c31c-4a4d-c9cc-262729cfc736"
      },
      "execution_count": null,
      "outputs": [
        {
          "output_type": "execute_result",
          "data": {
            "text/plain": [
              "               id         age          bp          sg          al          su  \\\n",
              "count  400.000000  391.000000  388.000000  353.000000  354.000000  351.000000   \n",
              "mean   199.500000   51.483376   76.469072    1.017408    1.016949    0.450142   \n",
              "std    115.614301   17.169714   13.683637    0.005717    1.352679    1.099191   \n",
              "min      0.000000    2.000000   50.000000    1.005000    0.000000    0.000000   \n",
              "25%     99.750000   42.000000   70.000000    1.010000    0.000000    0.000000   \n",
              "50%    199.500000   55.000000   80.000000    1.020000    0.000000    0.000000   \n",
              "75%    299.250000   64.500000   80.000000    1.020000    2.000000    0.000000   \n",
              "max    399.000000   90.000000  180.000000    1.025000    5.000000    5.000000   \n",
              "\n",
              "              bgr          bu          sc         sod         pot        hemo  \n",
              "count  356.000000  381.000000  383.000000  313.000000  312.000000  348.000000  \n",
              "mean   148.036517   57.425722    3.072454  137.528754    4.627244   12.526437  \n",
              "std     79.281714   50.503006    5.741126   10.408752    3.193904    2.912587  \n",
              "min     22.000000    1.500000    0.400000    4.500000    2.500000    3.100000  \n",
              "25%     99.000000   27.000000    0.900000  135.000000    3.800000   10.300000  \n",
              "50%    121.000000   42.000000    1.300000  138.000000    4.400000   12.650000  \n",
              "75%    163.000000   66.000000    2.800000  142.000000    4.900000   15.000000  \n",
              "max    490.000000  391.000000   76.000000  163.000000   47.000000   17.800000  "
            ],
            "text/html": [
              "\n",
              "  <div id=\"df-35151ac8-38d5-4587-b2ac-3d9bcc366fec\">\n",
              "    <div class=\"colab-df-container\">\n",
              "      <div>\n",
              "<style scoped>\n",
              "    .dataframe tbody tr th:only-of-type {\n",
              "        vertical-align: middle;\n",
              "    }\n",
              "\n",
              "    .dataframe tbody tr th {\n",
              "        vertical-align: top;\n",
              "    }\n",
              "\n",
              "    .dataframe thead th {\n",
              "        text-align: right;\n",
              "    }\n",
              "</style>\n",
              "<table border=\"1\" class=\"dataframe\">\n",
              "  <thead>\n",
              "    <tr style=\"text-align: right;\">\n",
              "      <th></th>\n",
              "      <th>id</th>\n",
              "      <th>age</th>\n",
              "      <th>bp</th>\n",
              "      <th>sg</th>\n",
              "      <th>al</th>\n",
              "      <th>su</th>\n",
              "      <th>bgr</th>\n",
              "      <th>bu</th>\n",
              "      <th>sc</th>\n",
              "      <th>sod</th>\n",
              "      <th>pot</th>\n",
              "      <th>hemo</th>\n",
              "    </tr>\n",
              "  </thead>\n",
              "  <tbody>\n",
              "    <tr>\n",
              "      <th>count</th>\n",
              "      <td>400.000000</td>\n",
              "      <td>391.000000</td>\n",
              "      <td>388.000000</td>\n",
              "      <td>353.000000</td>\n",
              "      <td>354.000000</td>\n",
              "      <td>351.000000</td>\n",
              "      <td>356.000000</td>\n",
              "      <td>381.000000</td>\n",
              "      <td>383.000000</td>\n",
              "      <td>313.000000</td>\n",
              "      <td>312.000000</td>\n",
              "      <td>348.000000</td>\n",
              "    </tr>\n",
              "    <tr>\n",
              "      <th>mean</th>\n",
              "      <td>199.500000</td>\n",
              "      <td>51.483376</td>\n",
              "      <td>76.469072</td>\n",
              "      <td>1.017408</td>\n",
              "      <td>1.016949</td>\n",
              "      <td>0.450142</td>\n",
              "      <td>148.036517</td>\n",
              "      <td>57.425722</td>\n",
              "      <td>3.072454</td>\n",
              "      <td>137.528754</td>\n",
              "      <td>4.627244</td>\n",
              "      <td>12.526437</td>\n",
              "    </tr>\n",
              "    <tr>\n",
              "      <th>std</th>\n",
              "      <td>115.614301</td>\n",
              "      <td>17.169714</td>\n",
              "      <td>13.683637</td>\n",
              "      <td>0.005717</td>\n",
              "      <td>1.352679</td>\n",
              "      <td>1.099191</td>\n",
              "      <td>79.281714</td>\n",
              "      <td>50.503006</td>\n",
              "      <td>5.741126</td>\n",
              "      <td>10.408752</td>\n",
              "      <td>3.193904</td>\n",
              "      <td>2.912587</td>\n",
              "    </tr>\n",
              "    <tr>\n",
              "      <th>min</th>\n",
              "      <td>0.000000</td>\n",
              "      <td>2.000000</td>\n",
              "      <td>50.000000</td>\n",
              "      <td>1.005000</td>\n",
              "      <td>0.000000</td>\n",
              "      <td>0.000000</td>\n",
              "      <td>22.000000</td>\n",
              "      <td>1.500000</td>\n",
              "      <td>0.400000</td>\n",
              "      <td>4.500000</td>\n",
              "      <td>2.500000</td>\n",
              "      <td>3.100000</td>\n",
              "    </tr>\n",
              "    <tr>\n",
              "      <th>25%</th>\n",
              "      <td>99.750000</td>\n",
              "      <td>42.000000</td>\n",
              "      <td>70.000000</td>\n",
              "      <td>1.010000</td>\n",
              "      <td>0.000000</td>\n",
              "      <td>0.000000</td>\n",
              "      <td>99.000000</td>\n",
              "      <td>27.000000</td>\n",
              "      <td>0.900000</td>\n",
              "      <td>135.000000</td>\n",
              "      <td>3.800000</td>\n",
              "      <td>10.300000</td>\n",
              "    </tr>\n",
              "    <tr>\n",
              "      <th>50%</th>\n",
              "      <td>199.500000</td>\n",
              "      <td>55.000000</td>\n",
              "      <td>80.000000</td>\n",
              "      <td>1.020000</td>\n",
              "      <td>0.000000</td>\n",
              "      <td>0.000000</td>\n",
              "      <td>121.000000</td>\n",
              "      <td>42.000000</td>\n",
              "      <td>1.300000</td>\n",
              "      <td>138.000000</td>\n",
              "      <td>4.400000</td>\n",
              "      <td>12.650000</td>\n",
              "    </tr>\n",
              "    <tr>\n",
              "      <th>75%</th>\n",
              "      <td>299.250000</td>\n",
              "      <td>64.500000</td>\n",
              "      <td>80.000000</td>\n",
              "      <td>1.020000</td>\n",
              "      <td>2.000000</td>\n",
              "      <td>0.000000</td>\n",
              "      <td>163.000000</td>\n",
              "      <td>66.000000</td>\n",
              "      <td>2.800000</td>\n",
              "      <td>142.000000</td>\n",
              "      <td>4.900000</td>\n",
              "      <td>15.000000</td>\n",
              "    </tr>\n",
              "    <tr>\n",
              "      <th>max</th>\n",
              "      <td>399.000000</td>\n",
              "      <td>90.000000</td>\n",
              "      <td>180.000000</td>\n",
              "      <td>1.025000</td>\n",
              "      <td>5.000000</td>\n",
              "      <td>5.000000</td>\n",
              "      <td>490.000000</td>\n",
              "      <td>391.000000</td>\n",
              "      <td>76.000000</td>\n",
              "      <td>163.000000</td>\n",
              "      <td>47.000000</td>\n",
              "      <td>17.800000</td>\n",
              "    </tr>\n",
              "  </tbody>\n",
              "</table>\n",
              "</div>\n",
              "      <button class=\"colab-df-convert\" onclick=\"convertToInteractive('df-35151ac8-38d5-4587-b2ac-3d9bcc366fec')\"\n",
              "              title=\"Convert this dataframe to an interactive table.\"\n",
              "              style=\"display:none;\">\n",
              "        \n",
              "  <svg xmlns=\"http://www.w3.org/2000/svg\" height=\"24px\"viewBox=\"0 0 24 24\"\n",
              "       width=\"24px\">\n",
              "    <path d=\"M0 0h24v24H0V0z\" fill=\"none\"/>\n",
              "    <path d=\"M18.56 5.44l.94 2.06.94-2.06 2.06-.94-2.06-.94-.94-2.06-.94 2.06-2.06.94zm-11 1L8.5 8.5l.94-2.06 2.06-.94-2.06-.94L8.5 2.5l-.94 2.06-2.06.94zm10 10l.94 2.06.94-2.06 2.06-.94-2.06-.94-.94-2.06-.94 2.06-2.06.94z\"/><path d=\"M17.41 7.96l-1.37-1.37c-.4-.4-.92-.59-1.43-.59-.52 0-1.04.2-1.43.59L10.3 9.45l-7.72 7.72c-.78.78-.78 2.05 0 2.83L4 21.41c.39.39.9.59 1.41.59.51 0 1.02-.2 1.41-.59l7.78-7.78 2.81-2.81c.8-.78.8-2.07 0-2.86zM5.41 20L4 18.59l7.72-7.72 1.47 1.35L5.41 20z\"/>\n",
              "  </svg>\n",
              "      </button>\n",
              "      \n",
              "  <style>\n",
              "    .colab-df-container {\n",
              "      display:flex;\n",
              "      flex-wrap:wrap;\n",
              "      gap: 12px;\n",
              "    }\n",
              "\n",
              "    .colab-df-convert {\n",
              "      background-color: #E8F0FE;\n",
              "      border: none;\n",
              "      border-radius: 50%;\n",
              "      cursor: pointer;\n",
              "      display: none;\n",
              "      fill: #1967D2;\n",
              "      height: 32px;\n",
              "      padding: 0 0 0 0;\n",
              "      width: 32px;\n",
              "    }\n",
              "\n",
              "    .colab-df-convert:hover {\n",
              "      background-color: #E2EBFA;\n",
              "      box-shadow: 0px 1px 2px rgba(60, 64, 67, 0.3), 0px 1px 3px 1px rgba(60, 64, 67, 0.15);\n",
              "      fill: #174EA6;\n",
              "    }\n",
              "\n",
              "    [theme=dark] .colab-df-convert {\n",
              "      background-color: #3B4455;\n",
              "      fill: #D2E3FC;\n",
              "    }\n",
              "\n",
              "    [theme=dark] .colab-df-convert:hover {\n",
              "      background-color: #434B5C;\n",
              "      box-shadow: 0px 1px 3px 1px rgba(0, 0, 0, 0.15);\n",
              "      filter: drop-shadow(0px 1px 2px rgba(0, 0, 0, 0.3));\n",
              "      fill: #FFFFFF;\n",
              "    }\n",
              "  </style>\n",
              "\n",
              "      <script>\n",
              "        const buttonEl =\n",
              "          document.querySelector('#df-35151ac8-38d5-4587-b2ac-3d9bcc366fec button.colab-df-convert');\n",
              "        buttonEl.style.display =\n",
              "          google.colab.kernel.accessAllowed ? 'block' : 'none';\n",
              "\n",
              "        async function convertToInteractive(key) {\n",
              "          const element = document.querySelector('#df-35151ac8-38d5-4587-b2ac-3d9bcc366fec');\n",
              "          const dataTable =\n",
              "            await google.colab.kernel.invokeFunction('convertToInteractive',\n",
              "                                                     [key], {});\n",
              "          if (!dataTable) return;\n",
              "\n",
              "          const docLinkHtml = 'Like what you see? Visit the ' +\n",
              "            '<a target=\"_blank\" href=https://colab.research.google.com/notebooks/data_table.ipynb>data table notebook</a>'\n",
              "            + ' to learn more about interactive tables.';\n",
              "          element.innerHTML = '';\n",
              "          dataTable['output_type'] = 'display_data';\n",
              "          await google.colab.output.renderOutput(dataTable, element);\n",
              "          const docLink = document.createElement('div');\n",
              "          docLink.innerHTML = docLinkHtml;\n",
              "          element.appendChild(docLink);\n",
              "        }\n",
              "      </script>\n",
              "    </div>\n",
              "  </div>\n",
              "  "
            ]
          },
          "metadata": {},
          "execution_count": 4
        }
      ]
    },
    {
      "cell_type": "markdown",
      "source": [
        "# Data Preprocessing"
      ],
      "metadata": {
        "id": "17hWe_-01CAg"
      }
    },
    {
      "cell_type": "code",
      "source": [
        "\n",
        "# dropping  the id column\n",
        "data.drop('id', axis = 1, inplace = True)\n",
        "\n",
        "data.info()\n",
        ""
      ],
      "metadata": {
        "id": "EQDckgOunQRf",
        "colab": {
          "base_uri": "https://localhost:8080/"
        },
        "outputId": "ac076d68-5028-4e44-f9d1-ab4f4b325b94"
      },
      "execution_count": null,
      "outputs": [
        {
          "output_type": "stream",
          "name": "stdout",
          "text": [
            "<class 'pandas.core.frame.DataFrame'>\n",
            "Int64Index: 400 entries, 300 to 383\n",
            "Data columns (total 25 columns):\n",
            " #   Column          Non-Null Count  Dtype  \n",
            "---  ------          --------------  -----  \n",
            " 0   age             391 non-null    float64\n",
            " 1   bp              388 non-null    float64\n",
            " 2   sg              353 non-null    float64\n",
            " 3   al              354 non-null    float64\n",
            " 4   su              351 non-null    float64\n",
            " 5   rbc             248 non-null    object \n",
            " 6   pc              335 non-null    object \n",
            " 7   pcc             396 non-null    object \n",
            " 8   ba              396 non-null    object \n",
            " 9   bgr             356 non-null    float64\n",
            " 10  bu              381 non-null    float64\n",
            " 11  sc              383 non-null    float64\n",
            " 12  sod             313 non-null    float64\n",
            " 13  pot             312 non-null    float64\n",
            " 14  hemo            348 non-null    float64\n",
            " 15  pcv             330 non-null    object \n",
            " 16  wc              295 non-null    object \n",
            " 17  rc              270 non-null    object \n",
            " 18  htn             398 non-null    object \n",
            " 19  dm              398 non-null    object \n",
            " 20  cad             398 non-null    object \n",
            " 21  appet           399 non-null    object \n",
            " 22  pe              399 non-null    object \n",
            " 23  ane             399 non-null    object \n",
            " 24  classification  400 non-null    object \n",
            "dtypes: float64(11), object(14)\n",
            "memory usage: 81.2+ KB\n"
          ]
        }
      ]
    },
    {
      "cell_type": "code",
      "source": [
        "for i in data.columns:\n",
        "  print(i)\n",
        "  print(data[i].unique())\n",
        "  print(\"********************\")"
      ],
      "metadata": {
        "colab": {
          "base_uri": "https://localhost:8080/"
        },
        "id": "z0ghbVufw9ew",
        "outputId": "bfe7f986-0fc9-4bde-84fa-1939a859d46d"
      },
      "execution_count": null,
      "outputs": [
        {
          "output_type": "stream",
          "name": "stdout",
          "text": [
            "age\n",
            "[45. 46. 48. 29.  7. 47. 35. 54. nan 39. 60. 17. 50. 73. 53. 76. 58.  2.\n",
            " 71. 52. 15. 57. 51. 65. 33. 43. 37. 74. 36. 82. 70. 38. 59. 63. 75. 68.\n",
            " 44. 23. 34. 67. 41. 12.  5. 28. 55. 72. 80. 61. 56. 11. 62. 66. 27. 64.\n",
            " 32.  8.  6. 42. 19. 69. 30. 24. 79.  3. 20. 25. 26. 21. 83. 40.  4. 49.\n",
            " 22. 81. 14. 90. 78.]\n",
            "********************\n",
            "bp\n",
            "[ 60.  70.  80.  50.  90.  nan 100. 110. 120. 180. 140.]\n",
            "********************\n",
            "sg\n",
            "[1.02  1.015 1.01  1.025   nan 1.005]\n",
            "********************\n",
            "al\n",
            "[ 0.  1.  4. nan  3.  2.  5.]\n",
            "********************\n",
            "su\n",
            "[ 0. nan  4.  3.  2.  5.  1.]\n",
            "********************\n",
            "rbc\n",
            "['normal' 'abnormal' nan]\n",
            "********************\n",
            "pc\n",
            "['normal' nan 'abnormal']\n",
            "********************\n",
            "pcc\n",
            "[nan 'notpresent' 'present']\n",
            "********************\n",
            "ba\n",
            "[nan 'notpresent' 'present']\n",
            "********************\n",
            "bgr\n",
            "[114. 150. 112.  83. 160.  nan 124. 104. 233. 219.  86. 123. 105. 490.\n",
            "  95.  91. 213.  92. 251. 118. 138.  94. 253.  93. 139. 134. 100.  81.\n",
            " 109. 132. 122.  99.  82. 103. 140. 171.  76.  70. 113. 107. 238. 106.\n",
            " 125.  88. 352. 121. 269.  96. 307. 116. 117.  74.  79. 214. 129.  75.\n",
            " 130. 255. 110. 163. 308. 141. 131. 137. 298. 252. 153. 273. 208. 102.\n",
            " 192. 172. 146. 127. 323. 111. 256. 241. 220. 463.  98. 201. 158. 360.\n",
            " 242. 165. 424. 303. 234. 294. 264.  78. 128. 207. 108.  85. 297. 133.\n",
            " 101. 230.  87. 410.  80. 144. 210. 250. 119. 204. 224. 261.  97.  22.\n",
            " 270. 295. 120. 215. 184. 162. 115. 226. 159. 447. 248.  90. 263. 239.\n",
            " 148.  89. 309. 246. 169. 173. 203. 423. 280. 288. 380. 157. 156.  84.\n",
            " 415. 425. 182. 341. 176. 268. 143.]\n",
            "********************\n",
            "bu\n",
            "[ 26.  111.   44.   49.   40.   18.   31.   50.1  34.   36.   37.   46.\n",
            "  53.   50.   55.   51.  114.   23.   29.   52.    nan 125.   60.   15.\n",
            " 322.  142.   17.   45.   47.   98.   25.   70.  153.  186.   32.   33.\n",
            "  22.   95.   48.   57.   41.   80.  137.   24.   73.   27.   38.   68.\n",
            "  28.   19.  107.   30.  132.   92.   16.   65.   82.   66.   87.   76.\n",
            " 235.   72.   94.  223.   35.   96.  146.   67.  191.   42.   20.  215.\n",
            "  64.   86.  241.  176.   21.   56.   71.   77.   79.   93.   75.  139.\n",
            " 106.  165.  208.  115.  164.   39.  166.   61.   58.    1.5  90.  150.\n",
            " 133.   98.6 155.  217.  219.  118.  113.   54.   10.  202.  148.  162.\n",
            "  89.  103.  158.  145.  163.   74.   85.  180.  391.  309.   88. ]\n",
            "********************\n",
            "sc\n",
            "[ 0.7   6.1   1.2   0.9   2.    0.8   1.    1.9   1.3   0.6   2.3   4.\n",
            "  1.6   3.25  1.8   2.2    nan  5.3  13.    4.6   0.5   1.1   2.8  16.9\n",
            "  3.4   5.2  15.    2.7   2.5   4.4   3.3   1.5   6.7  12.8   1.4   3.2\n",
            "  3.6  14.2   3.9   2.1   7.3  18.1   0.4   6.4   1.7   7.5  12.   15.2\n",
            " 13.4   2.4  16.4  13.8   6.3   8.5   6.5   9.3   3.   18.   48.1   6.8\n",
            "  9.2   6.    9.7   5.6   2.6  11.9  11.5  10.2  12.2   4.3   2.9  24.\n",
            " 10.8   9.6   4.1  13.5   7.2   3.8  11.8   7.1   7.7   5.9  76.   32.\n",
            " 13.3 ]\n",
            "********************\n",
            "sod\n",
            "[141.  131.  142.  139.  140.    nan 135.  150.  136.  133.  138.  126.\n",
            " 144.  132.  125.  137.  146.  145.  147.  143.  127.  113.  130.  114.\n",
            " 120.  128.  134.  124.  115.  129.  104.  122.  111.    4.5 163. ]\n",
            "********************\n",
            "pot\n",
            "[ 4.2  3.7  4.9  3.3  4.1  nan  5.   5.2  3.5  4.3  4.   3.9  4.8  5.8\n",
            "  3.8  4.7  7.6  4.5  3.6  5.7  4.4  3.2  6.6  3.4  4.6  6.5  5.5  5.3\n",
            "  5.6  2.9  5.4  6.3  2.7 47.   3.   2.8  2.5  5.9  6.4 39.   5.1]\n",
            "********************\n",
            "hemo\n",
            "[15.   7.5 14.5 17.5  9.  11.3 14.9 16.1 11.7 10.8 12.5 13.6 15.7 11.1\n",
            " 14.2  9.4  nan  8.6 10.3 11.4 11.   8.  15.5 10.5 16.7 10.  16.9 13.9\n",
            " 15.4 12.6 11.9 13.  16.4 14.   7.1 13.3 13.4 16.5 11.5  9.8 17.4 15.2\n",
            " 10.9 17.8 15.8 11.8 12.2 17.6 12.1 13.5 13.2  4.8 16.8 15.9  7.3 14.3\n",
            " 16.6 12.7 12.9  9.7 11.2 10.4  8.3 10.1  7.9  5.5 14.1 14.6  6.6  9.6\n",
            " 14.8  9.9 14.4  8.7 17.   8.4 12.4 15.3 16.3 12.3  6.3 10.7 16.2 15.1\n",
            " 15.6  6.2 12.   8.1  9.5  6.8 17.1  8.5  8.2 11.6 13.7  9.1 17.3  9.3\n",
            " 10.2 14.7 13.8  8.8 13.1 12.8  9.2 17.7  5.8  6.  10.6  7.7  7.6 16.\n",
            "  6.1  5.6 17.2  3.1]\n",
            "********************\n",
            "pcv\n",
            "['43' '27' '44' '40' '38' '41' '45' nan '33' '37' '51' '50' '28' '32' '35'\n",
            " '24' '46' '48' '52' '31' '42' '36' '22' '29' '34' '39' '49' '14' '20'\n",
            " '53' '30' '47' '21' '15' '54' '26' '\\t?' '19' '18' '\\t43' '23' '25' '17'\n",
            " '16' '9']\n",
            "********************\n",
            "wc\n",
            "['9200' nan '9400' '9900' '8100' '6000' '7000' '4300' '9800' '5800' '6300'\n",
            " '10500' '7200' '11000' '13200' '15200' '9600' '7700' '4200' '9500' '6200'\n",
            " '9100' '10700' '6700' '6900' '10200' '8800' '5700' '3800' '18900' '8000'\n",
            " '12000' '10300' '5900' '5200' '6600' '7300' '12400' '7800' '6500' '8600'\n",
            " '8300' '14600' '11400' '10400' '26400' '5600' '5300' '12200' '2600'\n",
            " '6800' '16700' '15700' '5000' '5500' '7100' '6400' '2200' '9000' '7500'\n",
            " '12300' '9300' '8400' '4100' '13600' '\\t6200' '\\t8400' '4700' '8500'\n",
            " '4500' '7400' '11800' '21600' '16300' '4900' '8200' '11300' '9700'\n",
            " '11200' '12800' '10800' '\\t?' '11900' '12700' '7900' '19100' '14900'\n",
            " '10900' '5400' '12500' '12100' '11500' '5100']\n",
            "********************\n",
            "rc\n",
            "['5.8' nan '6.4' '4.7' '3.2' '5.7' '5.2' '4.4' '4.5' '4.8' '4.1' '5.9'\n",
            " '3.8' '4.3' '4.0' '3.3' '5.6' '6.0' '4.9' '6.1' '5.3' '4.2' '6.5' '2.1'\n",
            " '3.5' '5.1' '3.9' '3.6' '5.5' '4.6' '6.3' '3.7' '5.0' '5.4' '2.5' '2.9'\n",
            " '3.4' '4' '2.8' '6.2' '3' '2.7' '2.6' '2.3' '8.0' '3.0' '5' '\\t?' '3.1'\n",
            " '2.4']\n",
            "********************\n",
            "htn\n",
            "['no' 'yes' nan]\n",
            "********************\n",
            "dm\n",
            "['no' 'yes' '\\tno' '\\tyes' nan ' yes']\n",
            "********************\n",
            "cad\n",
            "['no' 'yes' nan '\\tno']\n",
            "********************\n",
            "appet\n",
            "['good' 'poor' nan]\n",
            "********************\n",
            "pe\n",
            "['no' 'yes' nan]\n",
            "********************\n",
            "ane\n",
            "['no' 'yes' nan]\n",
            "********************\n",
            "classification\n",
            "['notckd' 'ckd' 'ckd\\t']\n",
            "********************\n"
          ]
        }
      ]
    },
    {
      "cell_type": "code",
      "source": [
        "data.replace({'\\t':np.nan , '\\t43':43,'\\t6200':6200 , '\\t8400':8400, '\\t?':np.nan,'ckd\\t':\"ckd\",\"\\tyes\":\"yes\",\"\\tno\":\"no\",\" yes\":\"yes\"},inplace=True)"
      ],
      "metadata": {
        "id": "g-QjmE5dxISL"
      },
      "execution_count": null,
      "outputs": []
    },
    {
      "cell_type": "code",
      "source": [
        "import matplotlib.pyplot as plt\n",
        "data['classification'].hist()\n",
        "plt.show()"
      ],
      "metadata": {
        "colab": {
          "base_uri": "https://localhost:8080/",
          "height": 430
        },
        "id": "bM-ARcUKxQUB",
        "outputId": "cf78ff09-3dc6-43f8-8950-71c296abc952"
      },
      "execution_count": null,
      "outputs": [
        {
          "output_type": "display_data",
          "data": {
            "text/plain": [
              "<Figure size 640x480 with 1 Axes>"
            ],
            "image/png": "[encoded data removed]"
          },
          "metadata": {}
        }
      ]
    },
    {
      "cell_type": "code",
      "source": [
        "for i in data.columns:\n",
        "  if data[i].dtypes == \"object\":\n",
        "    for j in range(len(data[i].unique())):\n",
        "      data[i].replace({data[i].unique()[j]:j},inplace=True)"
      ],
      "metadata": {
        "id": "wRFvdqDcxWIA"
      },
      "execution_count": null,
      "outputs": []
    },
    {
      "cell_type": "code",
      "source": [
        "data.dtypes"
      ],
      "metadata": {
        "colab": {
          "base_uri": "https://localhost:8080/"
        },
        "id": "CA1VNfutxXv5",
        "outputId": "ecbe26df-2058-497c-99cf-46f25f98e5b0"
      },
      "execution_count": null,
      "outputs": [
        {
          "output_type": "execute_result",
          "data": {
            "text/plain": [
              "age               float64\n",
              "bp                float64\n",
              "sg                float64\n",
              "al                float64\n",
              "su                float64\n",
              "rbc               float64\n",
              "pc                  int64\n",
              "pcc                 int64\n",
              "ba                  int64\n",
              "bgr               float64\n",
              "bu                float64\n",
              "sc                float64\n",
              "sod               float64\n",
              "pot               float64\n",
              "hemo              float64\n",
              "pcv                 int64\n",
              "wc                  int64\n",
              "rc                  int64\n",
              "htn               float64\n",
              "dm                float64\n",
              "cad               float64\n",
              "appet             float64\n",
              "pe                float64\n",
              "ane               float64\n",
              "classification      int64\n",
              "dtype: object"
            ]
          },
          "metadata": {},
          "execution_count": 10
        }
      ]
    },
    {
      "cell_type": "code",
      "source": [
        "x = data.drop(\"classification\",axis=1)\n",
        "y = data[\"classification\"]"
      ],
      "metadata": {
        "id": "xPttNf4exaoc"
      },
      "execution_count": null,
      "outputs": []
    },
    {
      "cell_type": "code",
      "source": [
        "for i in x.columns:\n",
        "  x[i].fillna(x[i].mean(),inplace=True)"
      ],
      "metadata": {
        "id": "aHSGqb57xdlx"
      },
      "execution_count": null,
      "outputs": []
    },
    {
      "cell_type": "code",
      "source": [
        "x.isnull().sum()"
      ],
      "metadata": {
        "colab": {
          "base_uri": "https://localhost:8080/"
        },
        "id": "dZpIj27FxgPn",
        "outputId": "3c5ee890-ecf3-4217-d140-17dae9f1eb2a"
      },
      "execution_count": null,
      "outputs": [
        {
          "output_type": "execute_result",
          "data": {
            "text/plain": [
              "age      0\n",
              "bp       0\n",
              "sg       0\n",
              "al       0\n",
              "su       0\n",
              "rbc      0\n",
              "pc       0\n",
              "pcc      0\n",
              "ba       0\n",
              "bgr      0\n",
              "bu       0\n",
              "sc       0\n",
              "sod      0\n",
              "pot      0\n",
              "hemo     0\n",
              "pcv      0\n",
              "wc       0\n",
              "rc       0\n",
              "htn      0\n",
              "dm       0\n",
              "cad      0\n",
              "appet    0\n",
              "pe       0\n",
              "ane      0\n",
              "dtype: int64"
            ]
          },
          "metadata": {},
          "execution_count": 13
        }
      ]
    },
    {
      "cell_type": "markdown",
      "source": [
        "# SMOTE"
      ],
      "metadata": {
        "id": "53PWVHE81sMB"
      }
    },
    {
      "cell_type": "code",
      "source": [
        "import pandas as pd\n",
        "from sklearn.utils import resample\n",
        "import collections\n",
        "from imblearn.over_sampling import SMOTE\n",
        "oversample=SMOTE()\n",
        "x,y=oversample.fit_resample(x,y)\n",
        "counter=collections.Counter(y)\n",
        "print(counter)\n",
        "\n",
        "counter=collections.Counter(x)\n",
        "print(counter)\n",
        "\n"
      ],
      "metadata": {
        "id": "q34rgcgucTTN",
        "colab": {
          "base_uri": "https://localhost:8080/"
        },
        "outputId": "6ab6a3fe-7dd6-4f0e-faa7-bfbbd6173b6d"
      },
      "execution_count": null,
      "outputs": [
        {
          "output_type": "stream",
          "name": "stdout",
          "text": [
            "Counter({0: 250, 1: 250})\n",
            "Counter({'age': 1, 'bp': 1, 'sg': 1, 'al': 1, 'su': 1, 'rbc': 1, 'pc': 1, 'pcc': 1, 'ba': 1, 'bgr': 1, 'bu': 1, 'sc': 1, 'sod': 1, 'pot': 1, 'hemo': 1, 'pcv': 1, 'wc': 1, 'rc': 1, 'htn': 1, 'dm': 1, 'cad': 1, 'appet': 1, 'pe': 1, 'ane': 1})\n"
          ]
        }
      ]
    },
    {
      "cell_type": "code",
      "source": [
        "from sklearn.model_selection import train_test_split\n",
        "X_train,X_test,y_train,y_test = train_test_split(x,y,test_size=0.25,random_state=0)"
      ],
      "metadata": {
        "id": "qq38tY81yYED"
      },
      "execution_count": null,
      "outputs": []
    },
    {
      "cell_type": "markdown",
      "source": [
        "# Classifier Algorithms"
      ],
      "metadata": {
        "id": "sfMeLAxs15Ex"
      }
    },
    {
      "cell_type": "code",
      "source": [
        "aucscores=[]\n",
        "precvalues=[]\n",
        "recallvalues=[]\n",
        "accuracies=[]"
      ],
      "metadata": {
        "id": "nuJstg2EHK9Y"
      },
      "execution_count": null,
      "outputs": []
    },
    {
      "cell_type": "markdown",
      "source": [
        "# **KNN**"
      ],
      "metadata": {
        "id": "Ev4ElPSC8vRC"
      }
    },
    {
      "cell_type": "code",
      "source": [
        "from sklearn.neighbors import KNeighborsClassifier\n",
        "\n",
        "from sklearn.metrics import classification_report,roc_auc_score,precision_score, recall_score,accuracy_score\n",
        "\n",
        "k = 10# no of nearest neighbors\n",
        "knn = KNeighborsClassifier(n_neighbors=k)\n",
        "knn.fit(X_train, y_train)\n",
        "\n",
        "# Using the test results, make predictions.\n",
        "y_predk = knn.predict(X_test)\n",
        "\n",
        "accuracy=accuracy_score(y_test,y_predk)\n",
        "print(\"Accuracy:\",accuracy)\n",
        "cls_score = classification_report(y_test, y_predk)\n",
        "print(cls_score)\n",
        "auck = roc_auc_score(y_test, y_predk)\n",
        "\n",
        "print(auck)\n",
        "print(accuracy)\n",
        "\n"
      ],
      "metadata": {
        "colab": {
          "base_uri": "https://localhost:8080/"
        },
        "id": "urrgcT2zSL9z",
        "outputId": "cdc5503f-4f3b-4518-bd75-aac4e1330a78"
      },
      "execution_count": null,
      "outputs": [
        {
          "output_type": "stream",
          "name": "stdout",
          "text": [
            "Accuracy: 0.872\n",
            "              precision    recall  f1-score   support\n",
            "\n",
            "           0       0.79      0.98      0.88        58\n",
            "           1       0.98      0.78      0.87        67\n",
            "\n",
            "    accuracy                           0.87       125\n",
            "   macro avg       0.89      0.88      0.87       125\n",
            "weighted avg       0.89      0.87      0.87       125\n",
            "\n",
            "0.8794390118373648\n",
            "0.872\n"
          ]
        }
      ]
    },
    {
      "cell_type": "markdown",
      "source": [
        "# **Logistics**"
      ],
      "metadata": {
        "id": "qLkBTntO9EsJ"
      }
    },
    {
      "cell_type": "code",
      "source": [
        "\n",
        "from sklearn.linear_model import LogisticRegression\n",
        "import sklearn.metrics as metrics\n",
        "from sklearn.metrics import accuracy_score\n",
        "from sklearn.model_selection import train_test_split\n",
        "\n",
        "\n",
        "\n",
        "lr = LogisticRegression()\n",
        "# On the practise set, train the model.\n",
        "lr.fit(X_train, y_train)\n",
        "\n",
        "# Using the test results, make predictions.\n",
        "y_predlr = lr.predict(X_test)\n",
        "\n",
        "accuracy=accuracy_score(y_test,y_predlr)\n",
        "print(\"Accuracy:\",accuracy)"
      ],
      "metadata": {
        "colab": {
          "base_uri": "https://localhost:8080/"
        },
        "id": "9BtWQSAvSTv1",
        "outputId": "bbfccdcc-2bb9-4eed-d428-18bcdee3fcc9"
      },
      "execution_count": null,
      "outputs": [
        {
          "output_type": "stream",
          "name": "stdout",
          "text": [
            "Accuracy: 1.0\n"
          ]
        },
        {
          "output_type": "stream",
          "name": "stderr",
          "text": [
            "/usr/local/lib/python3.10/dist-packages/sklearn/linear_model/_logistic.py:458: ConvergenceWarning: lbfgs failed to converge (status=1):\n",
            "STOP: TOTAL NO. of ITERATIONS REACHED LIMIT.\n",
            "\n",
            "Increase the number of iterations (max_iter) or scale the data as shown in:\n",
            "    https://scikit-learn.org/stable/modules/preprocessing.html\n",
            "Please also refer to the documentation for alternative solver options:\n",
            "    https://scikit-learn.org/stable/modules/linear_model.html#logistic-regression\n",
            "  n_iter_i = _check_optimize_result(\n"
          ]
        }
      ]
    },
    {
      "cell_type": "markdown",
      "source": [
        "ANN"
      ],
      "metadata": {
        "id": "x6JAymBOGzv2"
      }
    },
    {
      "cell_type": "code",
      "source": [
        "import tensorflow as tf\n",
        "from tensorflow import keras as k\n",
        "from tensorflow.keras import layers\n",
        "from tensorflow.keras import optimizers\n",
        "from tensorflow.keras.models import Sequential\n",
        "from tensorflow.keras.layers import Dense\n",
        "from sklearn.metrics import roc_auc_score,precision_score, recall_score,f1_score\n",
        "#building model\n",
        "model = Sequential()\n",
        "\n",
        "model_2 = tf.keras.Sequential([\n",
        "    tf.keras.layers.Dense(10,activation='relu'),\n",
        "    tf.keras.layers.Dense(1,activation='sigmoid')\n",
        "])\n",
        "\n",
        "model_2.compile(loss=\"binary_crossentropy\",optimizer=tf.keras.optimizers.Adam(),metrics=[\"accuracy\"])\n",
        "# On the practise set, train the model.\n",
        "model_2.fit(X_train,y_train)\n",
        "loss, accuracy = model_2.evaluate(X_test, y_test)\n",
        "\n",
        "\n",
        " #Using the test results, make predictions.\n",
        "y_predANN = model_2.predict(X_test)\n",
        "\n",
        "# Calculating the AUC score\n",
        "auc_score = roc_auc_score(y_test, y_predANN)\n",
        "\n",
        "# Printing the results\n",
        "print(\"Accuracy:\", accuracy)\n",
        "print(\"AUC Score:\", auc_score)\n",
        "\n",
        "y_predANN_binary = np.where(y_predANN >= 0.5, 1, 0)\n",
        "precision = precision_score(y_test, y_predANN_binary)\n",
        "recall = recall_score(y_test, y_predANN_binary)\n",
        "f1 = f1_score(y_test, y_predANN_binary)\n",
        "aucscores.append(auc_score*100)\n",
        "precvalues.append(precision*100)\n",
        "recallvalues.append(recall*100)\n",
        "accuracies.append(accuracy*100)\n",
        "print(\"F1\",f1)"
      ],
      "metadata": {
        "colab": {
          "base_uri": "https://localhost:8080/"
        },
        "id": "RBJEjfkPG2GU",
        "outputId": "c69db928-cbef-4b47-b973-879f4f6077cc"
      },
      "execution_count": null,
      "outputs": [
        {
          "output_type": "stream",
          "name": "stdout",
          "text": [
            "12/12 [==============================] - 6s 4ms/step - loss: 6.1272 - accuracy: 0.4907\n",
            "4/4 [==============================] - 0s 4ms/step - loss: 5.9086 - accuracy: 0.5040\n",
            "4/4 [==============================] - 0s 2ms/step\n",
            "Accuracy: 0.5040000081062317\n",
            "AUC Score: 0.5149253731343283\n",
            "F1 0.5373134328358209\n"
          ]
        }
      ]
    },
    {
      "cell_type": "markdown",
      "source": [
        "C5.0 **ALGORITHM**"
      ],
      "metadata": {
        "id": "DC3O3zntN5E3"
      }
    },
    {
      "cell_type": "code",
      "source": [
        "import pandas as pd\n",
        "from sklearn.tree import DecisionTreeClassifier\n",
        "from sklearn.metrics import accuracy_score,precision_score, recall_score\n",
        "from sklearn.metrics import classification_report\n",
        "from sklearn.model_selection import train_test_split\n",
        "from sklearn import metrics\n",
        "\n",
        "# Defining  the C5.0 (J48) classifier\n",
        "c50 = DecisionTreeClassifier(criterion='entropy', max_depth=3)\n",
        "\n",
        "# Training the model\n",
        "c50.fit(X_train, y_train)\n",
        "\n",
        "# Using the test results, make predictions.\n",
        "y_pred = c50.predict(X_test)\n",
        "\n",
        "# Calculating the accuracy\n",
        "accuracy = accuracy_score(y_test, y_pred)\n",
        "print('Accuracy:', accuracy)\n",
        "cls_score = classification_report(y_test, y_pred)\n",
        "print(cls_score)\n",
        "auc = metrics.roc_auc_score(y_test, y_pred)\n",
        "\n",
        "print(auc)\n",
        "\n",
        "precision = precision_score(y_test, y_pred, average='macro')\n",
        "recall = recall_score(y_test, y_pred, average='macro')\n",
        "aucscores.append(auc*100)\n",
        "precvalues.append(precision*100)\n",
        "recallvalues.append(recall*100)\n",
        "accuracies.append(accuracy*100)"
      ],
      "metadata": {
        "id": "0HVbmktxcTXF",
        "colab": {
          "base_uri": "https://localhost:8080/"
        },
        "outputId": "43e5a2ae-2a08-4088-cd70-931b7289f574"
      },
      "execution_count": null,
      "outputs": [
        {
          "output_type": "stream",
          "name": "stdout",
          "text": [
            "Accuracy: 0.992\n",
            "              precision    recall  f1-score   support\n",
            "\n",
            "           0       1.00      0.98      0.99        58\n",
            "           1       0.99      1.00      0.99        67\n",
            "\n",
            "    accuracy                           0.99       125\n",
            "   macro avg       0.99      0.99      0.99       125\n",
            "weighted avg       0.99      0.99      0.99       125\n",
            "\n",
            "0.9913793103448275\n"
          ]
        }
      ]
    },
    {
      "cell_type": "markdown",
      "source": [
        "LSVM PENALTY **L1**"
      ],
      "metadata": {
        "id": "if4F5nl0Sg87"
      }
    },
    {
      "cell_type": "code",
      "source": [
        "from sklearn.svm import LinearSVC\n",
        "from sklearn.model_selection import train_test_split\n",
        "from sklearn.metrics import accuracy_score, f1_score, classification_report,precision_score, recall_score\n",
        "target_var = \"classification\"\n",
        "predictor_vars = list(data.columns)\n",
        "predictor_vars.remove(target_var)\n",
        "\n",
        " # Transform the target variable to binary (0 or 1) format.\n",
        "data[target_var] = pd.factorize(data[target_var])[0]\n",
        "\n",
        "# Create an LSVM model with a lambda value of 0.5 and the L1 penalty.\n",
        "model2 = LinearSVC(penalty='l1', dual=False, C=0.5, max_iter=10000)\n",
        "\n",
        "# On the practise set, train the model.\n",
        "model2.fit(X_train, y_train)\n",
        "\n",
        "# Using the test results, make predictions.\n",
        "y_predl1 = model2.predict(X_test)\n",
        "\n",
        "# Calculating the accuracy\n",
        "accuracy = accuracy_score(y_test, y_predl1)\n",
        "print(accuracy)\n",
        "\n",
        "\n",
        "cls_score = classification_report(y_test, y_predl1)\n",
        "print(cls_score)\n",
        "\n",
        "auc = metrics.roc_auc_score(y_test, y_predl1)\n",
        "\n",
        "print(auc)\n",
        "aucscores.append(auc*100)\n",
        "precision = precision_score(y_test, y_predl1, average='macro')\n",
        "recall = recall_score(y_test, y_predl1, average='macro')\n",
        "\n",
        "precvalues.append(precision*100)\n",
        "recallvalues.append(recall*100)\n",
        "accuracies.append(accuracy*100)"
      ],
      "metadata": {
        "id": "q1-UsbOxWHlE",
        "colab": {
          "base_uri": "https://localhost:8080/"
        },
        "outputId": "80f158dd-2a23-4385-9667-e1c033cb537e"
      },
      "execution_count": null,
      "outputs": [
        {
          "output_type": "stream",
          "name": "stdout",
          "text": [
            "1.0\n",
            "              precision    recall  f1-score   support\n",
            "\n",
            "           0       1.00      1.00      1.00        58\n",
            "           1       1.00      1.00      1.00        67\n",
            "\n",
            "    accuracy                           1.00       125\n",
            "   macro avg       1.00      1.00      1.00       125\n",
            "weighted avg       1.00      1.00      1.00       125\n",
            "\n",
            "1.0\n"
          ]
        }
      ]
    },
    {
      "cell_type": "markdown",
      "source": [
        "LSVM **PENALTY** L2"
      ],
      "metadata": {
        "id": "SqjM076CSl0F"
      }
    },
    {
      "cell_type": "code",
      "source": [
        "from sklearn.svm import LinearSVC\n",
        "from sklearn.model_selection import train_test_split\n",
        "from sklearn.metrics import accuracy_score, f1_score, classification_report,precision_score, recall_score\n",
        "target_var = \"classification\"\n",
        "predictor_vars = list(data.columns)\n",
        "predictor_vars.remove(target_var)\n",
        "\n",
        "# Transform the target variable to binary (0 or 1) format.\n",
        "data[target_var] = pd.factorize(data[target_var])[0]\n",
        "\n",
        "\n",
        "\n",
        "# Create an LSVM model with a lambda value of 0.5 and the L2 penalty.\n",
        "model = LinearSVC(penalty='l2', dual=False, C=0.5, max_iter=10000)\n",
        "\n",
        "# On the practise set, train the model.\n",
        "model.fit(X_train, y_train)\n",
        "\n",
        "# Using the test results, make predictions.\n",
        "y_predl2 = model.predict(X_test)\n",
        "\n",
        "# Calculating the accuracy\n",
        "accuracy = accuracy_score(y_test, y_predl2)\n",
        "print(accuracy)\n",
        "\n",
        "\n",
        "cls_score = classification_report(y_test, y_predl2)\n",
        "print(cls_score)\n",
        "\n",
        "auc2 = metrics.roc_auc_score(y_test, y_predl2)\n",
        "\n",
        "print(auc2)\n",
        "\n",
        "precision = precision_score(y_test, y_predl2, average='macro')\n",
        "recall = recall_score(y_test, y_predl2, average='macro')\n",
        "aucscores.append(auc2*100)\n",
        "\n",
        "precvalues.append(precision*100)\n",
        "recallvalues.append(recall*100)\n",
        "accuracies.append(accuracy*100)"
      ],
      "metadata": {
        "id": "qAZEi5l8sMcn",
        "colab": {
          "base_uri": "https://localhost:8080/"
        },
        "outputId": "532c8472-f0b4-4358-8531-50ad6e0ff167"
      },
      "execution_count": null,
      "outputs": [
        {
          "output_type": "stream",
          "name": "stdout",
          "text": [
            "1.0\n",
            "              precision    recall  f1-score   support\n",
            "\n",
            "           0       1.00      1.00      1.00        58\n",
            "           1       1.00      1.00      1.00        67\n",
            "\n",
            "    accuracy                           1.00       125\n",
            "   macro avg       1.00      1.00      1.00       125\n",
            "weighted avg       1.00      1.00      1.00       125\n",
            "\n",
            "1.0\n"
          ]
        }
      ]
    },
    {
      "cell_type": "markdown",
      "source": [
        "Random Tree"
      ],
      "metadata": {
        "id": "eDOiiKr4HDIA"
      }
    },
    {
      "cell_type": "code",
      "source": [
        "from sklearn.ensemble import RandomForestClassifier\n",
        "from sklearn.metrics import accuracy_score,precision_score, recall_score\n",
        "from sklearn.model_selection import train_test_split\n",
        "\n",
        "\n",
        "\n",
        "#Create a 50-tree random forest classifier.\n",
        "rfc = RandomForestClassifier(n_estimators=50)\n",
        "\n",
        "# On the practise set, train the model.\n",
        "rfc.fit(X_train, y_train)\n",
        "\n",
        "# Using the test results, make predictions.\n",
        "\n",
        "y_predr = rfc.predict(X_test)\n",
        "\n",
        "# Calculating the accuracy\n",
        "accuracy = accuracy_score(y_test, y_predr)\n",
        "print('Accuracy:', accuracy)\n",
        "cls_score = classification_report(y_test, y_predr)\n",
        "print(cls_score)\n",
        "auc = metrics.roc_auc_score(y_test, y_predr)\n",
        "\n",
        "print(auc)\n",
        "\n",
        "precision = precision_score(y_test, y_predr, average='macro')\n",
        "recall = recall_score(y_test, y_predr, average='macro')\n",
        "aucscores.append(auc*100)\n",
        "precvalues.append(precision*100)\n",
        "recallvalues.append(recall*100)\n",
        "accuracies.append(accuracy*100)"
      ],
      "metadata": {
        "colab": {
          "base_uri": "https://localhost:8080/"
        },
        "id": "8hO5lMBeHGB7",
        "outputId": "ca46c619-efb4-4ea3-8ebb-16c851a713c2"
      },
      "execution_count": null,
      "outputs": [
        {
          "output_type": "stream",
          "name": "stdout",
          "text": [
            "Accuracy: 0.992\n",
            "              precision    recall  f1-score   support\n",
            "\n",
            "           0       0.98      1.00      0.99        58\n",
            "           1       1.00      0.99      0.99        67\n",
            "\n",
            "    accuracy                           0.99       125\n",
            "   macro avg       0.99      0.99      0.99       125\n",
            "weighted avg       0.99      0.99      0.99       125\n",
            "\n",
            "0.9925373134328358\n"
          ]
        }
      ]
    },
    {
      "cell_type": "code",
      "source": [
        "print(accuracies)"
      ],
      "metadata": {
        "colab": {
          "base_uri": "https://localhost:8080/"
        },
        "id": "0J7n-HRgEfTV",
        "outputId": "a0039a9b-a161-42c7-99f4-d545aca2b0ae"
      },
      "execution_count": null,
      "outputs": [
        {
          "output_type": "stream",
          "name": "stdout",
          "text": [
            "[50.40000081062317, 99.2, 100.0, 100.0, 99.2]\n"
          ]
        }
      ]
    },
    {
      "cell_type": "markdown",
      "source": [
        "AUC Performance Curve"
      ],
      "metadata": {
        "id": "q-iWjx9RFvi8"
      }
    },
    {
      "cell_type": "code",
      "source": [
        "import matplotlib.pyplot as plt\n",
        "models=['ANN','C5.0','LSVM1','LSVM2','RANDOM TREE']\n",
        "\n",
        "plt.figure(figsize=(8,8))\n",
        "plt.plot(models, aucscores, marker='o', color='blue')\n",
        "plt.xlabel('Models')\n",
        "plt.ylabel('AUC Score')\n",
        "plt.title('AUC Score Comparison')\n",
        "plt.ylim(0.0, 100.0)\n",
        "plt.grid(True)\n",
        "plt.show()\n",
        "\n",
        "\n",
        "\n",
        "\n",
        "\n"
      ],
      "metadata": {
        "colab": {
          "base_uri": "https://localhost:8080/"
        },
        "id": "RpqpXN7AF3G0",
        "outputId": "d16d36ed-82c3-4a41-d989-22136819515a"
      },
      "execution_count": null,
      "outputs": [
        {
          "output_type": "display_data",
          "data": {
            "text/plain": [
              "<Figure size 800x800 with 1 Axes>"
            ],
            "image/png": "[encoded data removed]"
          },
          "metadata": {}
        }
      ]
    },
    {
      "cell_type": "markdown",
      "source": [
        "AUC Bar Graph"
      ],
      "metadata": {
        "id": "PA7ofXdbY8GQ"
      }
    },
    {
      "cell_type": "code",
      "source": [
        "import matplotlib.pyplot as plt\n",
        "plt.bar(models, aucscores, color='blue')\n",
        "\n",
        "# Add axis labels and title\n",
        "plt.xlabel(\"Models\")\n",
        "plt.ylabel(\"AUC Scores\")\n",
        "plt.title(\"Comparison of AUC Scores for Different Models\")\n",
        "\n",
        "# Display the plot\n",
        "plt.show()"
      ],
      "metadata": {
        "colab": {
          "base_uri": "https://localhost:8080/"
        },
        "id": "IHT5jKpJY7co",
        "outputId": "545c2781-a3da-43ae-c8ff-b030ed7526ff"
      },
      "execution_count": null,
      "outputs": [
        {
          "output_type": "display_data",
          "data": {
            "text/plain": [
              "<Figure size 640x480 with 1 Axes>"
            ],
            "image/png": "[encoded data removed]"
          },
          "metadata": {}
        }
      ]
    },
    {
      "cell_type": "code",
      "source": [
        "import matplotlib.pyplot as plt\n",
        "plt.bar(models, aucscores, color='blue')\n",
        "\n",
        "# Add axis labels and title\n",
        "plt.xlabel(\"Models\")\n",
        "plt.ylabel(\"AUC Scores\")\n",
        "plt.title(\"Comparison of AUC Scores for Different Models\")\n",
        "fig = plt.figure(figsize=(10, 6))\n",
        "\n",
        "# Display the plot\n",
        "plt.show()"
      ],
      "metadata": {
        "id": "uL-HfECEBjvh",
        "colab": {
          "base_uri": "https://localhost:8080/"
        },
        "outputId": "c918285f-8329-428f-84cc-ce90332b2572"
      },
      "execution_count": null,
      "outputs": [
        {
          "output_type": "display_data",
          "data": {
            "text/plain": [
              "<Figure size 640x480 with 1 Axes>"
            ],
            "image/png": "[encoded data removed]"
          },
          "metadata": {}
        },
        {
          "output_type": "display_data",
          "data": {
            "text/plain": [
              "<Figure size 1000x600 with 0 Axes>"
            ]
          },
          "metadata": {}
        }
      ]
    },
    {
      "cell_type": "markdown",
      "source": [
        " Comparison of precision, recall and accuracy for all 5 classifiers with SMOTE and full features.\n",
        "\n",
        "---\n",
        "\n"
      ],
      "metadata": {
        "id": "ulF7kZT7dWAM"
      }
    },
    {
      "cell_type": "code",
      "source": [
        "print(accuracies)\n",
        "print(precvalues)\n",
        "print(recallvalues)\n"
      ],
      "metadata": {
        "colab": {
          "base_uri": "https://localhost:8080/"
        },
        "id": "jizApoRsdSrP",
        "outputId": "8a2f94df-0960-43ab-eebe-53a469613808"
      },
      "execution_count": null,
      "outputs": [
        {
          "output_type": "stream",
          "name": "stdout",
          "text": [
            "[50.40000081062317, 99.2, 100.0, 100.0, 99.2]\n",
            "[53.73134328358209, 99.26470588235294, 100.0, 100.0, 99.15254237288136]\n",
            "[53.73134328358209, 99.13793103448276, 100.0, 100.0, 99.25373134328358]\n"
          ]
        }
      ]
    },
    {
      "cell_type": "code",
      "source": [
        "import matplotlib.pyplot as plt\n",
        "fig, ax = plt.subplots()\n",
        "x = range(len(models))\n",
        "plt.bar(x, precvalues, width=0.2, label='Precision',color='#3182bd')\n",
        "plt.bar([i + 0.2 for i in x], recallvalues, width=0.2, label='Recall',color='#6baed6')\n",
        "plt.bar([i + 0.4 for i in x], accuracies, width=0.2, label='Accuracy',color='#9ecae1')\n",
        "plt.xticks([i + 0.2 for i in x], models)\n",
        "plt.legend()\n",
        "plt.title('Model Performance')\n",
        "plt.xlabel('Models')\n",
        "plt.ylabel('Percentage')\n",
        "plt.ylim(0, 110)\n",
        "\n",
        "plt.show()"
      ],
      "metadata": {
        "colab": {
          "base_uri": "https://localhost:8080/",
          "height": 54
        },
        "id": "PC75h-_7lkMH",
        "outputId": "164283b5-a66a-4d7e-88f1-f8cc7042ea4a"
      },
      "execution_count": null,
      "outputs": [
        {
          "output_type": "display_data",
          "data": {
            "text/plain": [
              "<Figure size 640x480 with 1 Axes>"
            ],
            "image/png": "[encoded data removed]"
          },
          "metadata": {}
        }
      ]
    }
  ]
}